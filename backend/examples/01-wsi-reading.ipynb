version https://git-lfs.github.com/spec/v1
oid sha256:6fc9406e6a3f1e0de881677f5b56cf4cf051b657930911542e0090b53183d582
size 2369502
