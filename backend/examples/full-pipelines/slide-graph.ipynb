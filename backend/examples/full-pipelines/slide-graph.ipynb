version https://git-lfs.github.com/spec/v1
oid sha256:6a5c7b1081e1dde4b32f714cee01d5fd905fc5c678ef1e644b5fd8b6804f7344
size 2249321
