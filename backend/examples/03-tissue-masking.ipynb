version https://git-lfs.github.com/spec/v1
oid sha256:2f56175c35a0c7e261842f401e30d18e4bae8a1a83cf463b01bdb4b85a03e06d
size 1217148
